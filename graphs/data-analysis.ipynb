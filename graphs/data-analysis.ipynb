{
 "cells": [
  {
   "cell_type": "code",
   "execution_count": 1,
   "id": "6a258a89-0e64-4f4c-bcc2-b17deca36de8",
   "metadata": {
    "executionInfo": {
     "elapsed": 935,
     "status": "ok",
     "timestamp": 1680268289741,
     "user": {
      "displayName": "arthur simas",
      "userId": "04073960446793716118"
     },
     "user_tz": 180
    },
    "id": "6a258a89-0e64-4f4c-bcc2-b17deca36de8",
    "tags": []
   },
   "outputs": [],
   "source": [
    "from IPython.display import display, Markdown\n",
    "import pandas as pd\n",
    "import numpy as np\n",
    "import seaborn as sns\n",
    "\n",
    "import random\n",
    "\n",
    "random.seed(42)\n",
    "pd.set_option('display.max_columns', None)\n",
    "\n",
    "def count_decimal_places(num, *, remove_single_zero=False):\n",
    "    str_num = str(num)\n",
    "    if remove_single_zero and str_num.endswith('.0'):\n",
    "        return 0\n",
    "    if '.' in str_num:\n",
    "        return len(str_num) - str_num.index('.') - 1\n",
    "    else:\n",
    "        return 0\n",
    "\n",
    "pd.set_option('display.float_format', lambda x: '{:.{}f}'.format(x, min(count_decimal_places(x), 6)))"
   ]
  },
  {
   "cell_type": "code",
   "execution_count": 2,
   "id": "8e82e904-3b73-4546-944e-f6bf0b2d7151",
   "metadata": {
    "colab": {
     "base_uri": "https://localhost:8080/",
     "height": 955
    },
    "executionInfo": {
     "elapsed": 20837,
     "status": "ok",
     "timestamp": 1680268310573,
     "user": {
      "displayName": "arthur simas",
      "userId": "04073960446793716118"
     },
     "user_tz": 180
    },
    "id": "2a30778c-713b-45da-b829-e3ed41eb770b",
    "outputId": "fdd46a50-134f-4ccc-c903-c39da16e1f14",
    "tags": []
   },
   "outputs": [],
   "source": [
    "def load_dataset(path, mode, scenario):\n",
    "    if path.endswith('.v1.txt'):\n",
    "        data = pd.read_csv(path, sep=' ', header=None, names=['Latency', 'Sequence'], skiprows=lambda n: not n % 2)\n",
    "    elif path.endswith('.v2.txt'):\n",
    "        data = pd.read_csv(path, sep=' ', header=None, names=['Latency', 'Sequence'])\n",
    "    elif path.endswith('.v3.txt'):\n",
    "        data = pd.read_csv(path, sep=',', header=None, names=['Sequence', 'Latency'])\n",
    "\n",
    "    data['Mode'] = mode\n",
    "    data['Scenario'] = scenario\n",
    "    return data\n",
    "\n",
    "WORKLOADS_BASE = '../workloads'\n",
    "\n",
    "df = pd.concat(\n",
    "    [ load_dataset(f'{WORKLOADS_BASE}/{workload}/samples/{file}', mode, scenario) for (workload, file, mode, scenario) in [\n",
    "        ['ping-echo', 'logs-nothing-baseline-6.v3.txt', 'No Service Mesh', 'Baseline'],\n",
    "        ['ping-echo', 'logs-nothing-optimization-6.v3.txt', 'No Service Mesh', 'Optimization'],\n",
    "        #['ping-echo', 'logs-sidecar-baseline-8.v3.txt', 'Sidecar', 'Baseline'],\n",
    "        #['ping-echo', 'logs-sidecar-optimization-8.v3.txt', 'Sidecar', 'Optimization'],\n",
    "        ['ping-echo', 'logs-ztunnel-baseline-7.v3.txt', 'Ambient Mesh', 'Baseline'],\n",
    "        ['ping-echo', 'logs-ztunnel-optimization-7.v3.txt', 'Ambient Mesh', 'Optimization'],\n",
    "    ] ],\n",
    "    ignore_index=True,\n",
    ")"
   ]
  },
  {
   "cell_type": "code",
   "execution_count": 3,
   "id": "0e40e80c-3108-4de2-af51-8367351c0000",
   "metadata": {
    "colab": {
     "base_uri": "https://localhost:8080/",
     "height": 955
    },
    "executionInfo": {
     "elapsed": 20837,
     "status": "ok",
     "timestamp": 1680268310573,
     "user": {
      "displayName": "arthur simas",
      "userId": "04073960446793716118"
     },
     "user_tz": 180
    },
    "id": "2a30778c-713b-45da-b829-e3ed41eb770b",
    "outputId": "fdd46a50-134f-4ccc-c903-c39da16e1f14",
    "tags": []
   },
   "outputs": [],
   "source": [
    "#df = df[df.Sequence < 2000].copy()"
   ]
  },
  {
   "cell_type": "code",
   "execution_count": 4,
   "id": "0e7b24bd-6de1-402b-946d-4121a8bf9215",
   "metadata": {
    "colab": {
     "base_uri": "https://localhost:8080/",
     "height": 955
    },
    "executionInfo": {
     "elapsed": 20837,
     "status": "ok",
     "timestamp": 1680268310573,
     "user": {
      "displayName": "arthur simas",
      "userId": "04073960446793716118"
     },
     "user_tz": 180
    },
    "id": "2a30778c-713b-45da-b829-e3ed41eb770b",
    "outputId": "fdd46a50-134f-4ccc-c903-c39da16e1f14",
    "tags": []
   },
   "outputs": [
    {
     "data": {
      "text/html": [
       "<div>\n",
       "<style scoped>\n",
       "    .dataframe tbody tr th:only-of-type {\n",
       "        vertical-align: middle;\n",
       "    }\n",
       "\n",
       "    .dataframe tbody tr th {\n",
       "        vertical-align: top;\n",
       "    }\n",
       "\n",
       "    .dataframe thead th {\n",
       "        text-align: right;\n",
       "    }\n",
       "</style>\n",
       "<table border=\"1\" class=\"dataframe\">\n",
       "  <thead>\n",
       "    <tr style=\"text-align: right;\">\n",
       "      <th></th>\n",
       "      <th>Sequence</th>\n",
       "      <th>Latency</th>\n",
       "      <th>Mode</th>\n",
       "      <th>Scenario</th>\n",
       "    </tr>\n",
       "  </thead>\n",
       "  <tbody>\n",
       "    <tr>\n",
       "      <th>0</th>\n",
       "      <td>0</td>\n",
       "      <td>677806</td>\n",
       "      <td>No Service Mesh</td>\n",
       "      <td>Baseline</td>\n",
       "    </tr>\n",
       "    <tr>\n",
       "      <th>1</th>\n",
       "      <td>1</td>\n",
       "      <td>420651</td>\n",
       "      <td>No Service Mesh</td>\n",
       "      <td>Baseline</td>\n",
       "    </tr>\n",
       "    <tr>\n",
       "      <th>2</th>\n",
       "      <td>2</td>\n",
       "      <td>451801</td>\n",
       "      <td>No Service Mesh</td>\n",
       "      <td>Baseline</td>\n",
       "    </tr>\n",
       "    <tr>\n",
       "      <th>3</th>\n",
       "      <td>3</td>\n",
       "      <td>447191</td>\n",
       "      <td>No Service Mesh</td>\n",
       "      <td>Baseline</td>\n",
       "    </tr>\n",
       "    <tr>\n",
       "      <th>4</th>\n",
       "      <td>4</td>\n",
       "      <td>434968</td>\n",
       "      <td>No Service Mesh</td>\n",
       "      <td>Baseline</td>\n",
       "    </tr>\n",
       "    <tr>\n",
       "      <th>...</th>\n",
       "      <td>...</td>\n",
       "      <td>...</td>\n",
       "      <td>...</td>\n",
       "      <td>...</td>\n",
       "    </tr>\n",
       "    <tr>\n",
       "      <th>8758</th>\n",
       "      <td>2070</td>\n",
       "      <td>410389</td>\n",
       "      <td>Ambient Mesh</td>\n",
       "      <td>Optimization</td>\n",
       "    </tr>\n",
       "    <tr>\n",
       "      <th>8759</th>\n",
       "      <td>2071</td>\n",
       "      <td>618586</td>\n",
       "      <td>Ambient Mesh</td>\n",
       "      <td>Optimization</td>\n",
       "    </tr>\n",
       "    <tr>\n",
       "      <th>8760</th>\n",
       "      <td>2072</td>\n",
       "      <td>507120</td>\n",
       "      <td>Ambient Mesh</td>\n",
       "      <td>Optimization</td>\n",
       "    </tr>\n",
       "    <tr>\n",
       "      <th>8761</th>\n",
       "      <td>2073</td>\n",
       "      <td>239557</td>\n",
       "      <td>Ambient Mesh</td>\n",
       "      <td>Optimization</td>\n",
       "    </tr>\n",
       "    <tr>\n",
       "      <th>8762</th>\n",
       "      <td>2074</td>\n",
       "      <td>287887</td>\n",
       "      <td>Ambient Mesh</td>\n",
       "      <td>Optimization</td>\n",
       "    </tr>\n",
       "  </tbody>\n",
       "</table>\n",
       "<p>8763 rows × 4 columns</p>\n",
       "</div>"
      ],
      "text/plain": [
       "      Sequence  Latency             Mode      Scenario\n",
       "0            0   677806  No Service Mesh      Baseline\n",
       "1            1   420651  No Service Mesh      Baseline\n",
       "2            2   451801  No Service Mesh      Baseline\n",
       "3            3   447191  No Service Mesh      Baseline\n",
       "4            4   434968  No Service Mesh      Baseline\n",
       "...        ...      ...              ...           ...\n",
       "8758      2070   410389     Ambient Mesh  Optimization\n",
       "8759      2071   618586     Ambient Mesh  Optimization\n",
       "8760      2072   507120     Ambient Mesh  Optimization\n",
       "8761      2073   239557     Ambient Mesh  Optimization\n",
       "8762      2074   287887     Ambient Mesh  Optimization\n",
       "\n",
       "[8763 rows x 4 columns]"
      ]
     },
     "execution_count": 4,
     "metadata": {},
     "output_type": "execute_result"
    }
   ],
   "source": [
    "df"
   ]
  },
  {
   "cell_type": "code",
   "execution_count": 5,
   "id": "57216c7f-932d-4848-9262-02f972c9fe07",
   "metadata": {
    "colab": {
     "base_uri": "https://localhost:8080/",
     "height": 955
    },
    "executionInfo": {
     "elapsed": 20837,
     "status": "ok",
     "timestamp": 1680268310573,
     "user": {
      "displayName": "arthur simas",
      "userId": "04073960446793716118"
     },
     "user_tz": 180
    },
    "id": "2a30778c-713b-45da-b829-e3ed41eb770b",
    "outputId": "fdd46a50-134f-4ccc-c903-c39da16e1f14",
    "tags": []
   },
   "outputs": [
    {
     "data": {
      "text/html": [
       "<div>\n",
       "<style scoped>\n",
       "    .dataframe tbody tr th:only-of-type {\n",
       "        vertical-align: middle;\n",
       "    }\n",
       "\n",
       "    .dataframe tbody tr th {\n",
       "        vertical-align: top;\n",
       "    }\n",
       "\n",
       "    .dataframe thead th {\n",
       "        text-align: right;\n",
       "    }\n",
       "</style>\n",
       "<table border=\"1\" class=\"dataframe\">\n",
       "  <thead>\n",
       "    <tr style=\"text-align: right;\">\n",
       "      <th></th>\n",
       "      <th></th>\n",
       "      <th>Mode</th>\n",
       "      <th>Scenario</th>\n",
       "    </tr>\n",
       "    <tr>\n",
       "      <th>Mode</th>\n",
       "      <th>Scenario</th>\n",
       "      <th></th>\n",
       "      <th></th>\n",
       "    </tr>\n",
       "  </thead>\n",
       "  <tbody>\n",
       "    <tr>\n",
       "      <th rowspan=\"2\" valign=\"top\">Ambient Mesh</th>\n",
       "      <th>Baseline</th>\n",
       "      <td>2129</td>\n",
       "      <td>2129</td>\n",
       "    </tr>\n",
       "    <tr>\n",
       "      <th>Optimization</th>\n",
       "      <td>2075</td>\n",
       "      <td>2075</td>\n",
       "    </tr>\n",
       "    <tr>\n",
       "      <th rowspan=\"2\" valign=\"top\">No Service Mesh</th>\n",
       "      <th>Baseline</th>\n",
       "      <td>2413</td>\n",
       "      <td>2413</td>\n",
       "    </tr>\n",
       "    <tr>\n",
       "      <th>Optimization</th>\n",
       "      <td>2146</td>\n",
       "      <td>2146</td>\n",
       "    </tr>\n",
       "  </tbody>\n",
       "</table>\n",
       "</div>"
      ],
      "text/plain": [
       "                              Mode  Scenario\n",
       "Mode            Scenario                    \n",
       "Ambient Mesh    Baseline      2129      2129\n",
       "                Optimization  2075      2075\n",
       "No Service Mesh Baseline      2413      2413\n",
       "                Optimization  2146      2146"
      ]
     },
     "execution_count": 5,
     "metadata": {},
     "output_type": "execute_result"
    }
   ],
   "source": [
    "df.groupby(['Mode', 'Scenario'])[['Mode', 'Scenario']].count()"
   ]
  },
  {
   "cell_type": "code",
   "execution_count": 6,
   "id": "69291d1d-dd55-46ec-9ca1-801708a92821",
   "metadata": {
    "colab": {
     "base_uri": "https://localhost:8080/",
     "height": 955
    },
    "executionInfo": {
     "elapsed": 20837,
     "status": "ok",
     "timestamp": 1680268310573,
     "user": {
      "displayName": "arthur simas",
      "userId": "04073960446793716118"
     },
     "user_tz": 180
    },
    "id": "2a30778c-713b-45da-b829-e3ed41eb770b",
    "outputId": "fdd46a50-134f-4ccc-c903-c39da16e1f14",
    "tags": []
   },
   "outputs": [],
   "source": [
    "df['Latency_diff'] = df.groupby(['Mode', 'Scenario']).Latency.diff().abs().fillna(0)"
   ]
  },
  {
   "cell_type": "code",
   "execution_count": 7,
   "id": "ea2cdb45-6ed9-463b-84e3-ef0e6d3c923c",
   "metadata": {
    "colab": {
     "base_uri": "https://localhost:8080/",
     "height": 955
    },
    "executionInfo": {
     "elapsed": 20837,
     "status": "ok",
     "timestamp": 1680268310573,
     "user": {
      "displayName": "arthur simas",
      "userId": "04073960446793716118"
     },
     "user_tz": 180
    },
    "id": "2a30778c-713b-45da-b829-e3ed41eb770b",
    "outputId": "fdd46a50-134f-4ccc-c903-c39da16e1f14",
    "tags": []
   },
   "outputs": [
    {
     "data": {
      "text/html": [
       "<div>\n",
       "<style scoped>\n",
       "    .dataframe tbody tr th:only-of-type {\n",
       "        vertical-align: middle;\n",
       "    }\n",
       "\n",
       "    .dataframe tbody tr th {\n",
       "        vertical-align: top;\n",
       "    }\n",
       "\n",
       "    .dataframe thead th {\n",
       "        text-align: right;\n",
       "    }\n",
       "</style>\n",
       "<table border=\"1\" class=\"dataframe\">\n",
       "  <thead>\n",
       "    <tr style=\"text-align: right;\">\n",
       "      <th></th>\n",
       "      <th>Sequence</th>\n",
       "      <th>Latency</th>\n",
       "      <th>Mode</th>\n",
       "      <th>Scenario</th>\n",
       "      <th>Latency_diff</th>\n",
       "    </tr>\n",
       "  </thead>\n",
       "  <tbody>\n",
       "    <tr>\n",
       "      <th>0</th>\n",
       "      <td>0</td>\n",
       "      <td>677806</td>\n",
       "      <td>No Service Mesh</td>\n",
       "      <td>Baseline</td>\n",
       "      <td>0.0</td>\n",
       "    </tr>\n",
       "    <tr>\n",
       "      <th>1</th>\n",
       "      <td>1</td>\n",
       "      <td>420651</td>\n",
       "      <td>No Service Mesh</td>\n",
       "      <td>Baseline</td>\n",
       "      <td>257155.0</td>\n",
       "    </tr>\n",
       "    <tr>\n",
       "      <th>2</th>\n",
       "      <td>2</td>\n",
       "      <td>451801</td>\n",
       "      <td>No Service Mesh</td>\n",
       "      <td>Baseline</td>\n",
       "      <td>31150.0</td>\n",
       "    </tr>\n",
       "    <tr>\n",
       "      <th>3</th>\n",
       "      <td>3</td>\n",
       "      <td>447191</td>\n",
       "      <td>No Service Mesh</td>\n",
       "      <td>Baseline</td>\n",
       "      <td>4610.0</td>\n",
       "    </tr>\n",
       "    <tr>\n",
       "      <th>4</th>\n",
       "      <td>4</td>\n",
       "      <td>434968</td>\n",
       "      <td>No Service Mesh</td>\n",
       "      <td>Baseline</td>\n",
       "      <td>12223.0</td>\n",
       "    </tr>\n",
       "    <tr>\n",
       "      <th>...</th>\n",
       "      <td>...</td>\n",
       "      <td>...</td>\n",
       "      <td>...</td>\n",
       "      <td>...</td>\n",
       "      <td>...</td>\n",
       "    </tr>\n",
       "    <tr>\n",
       "      <th>8758</th>\n",
       "      <td>2070</td>\n",
       "      <td>410389</td>\n",
       "      <td>Ambient Mesh</td>\n",
       "      <td>Optimization</td>\n",
       "      <td>304649.0</td>\n",
       "    </tr>\n",
       "    <tr>\n",
       "      <th>8759</th>\n",
       "      <td>2071</td>\n",
       "      <td>618586</td>\n",
       "      <td>Ambient Mesh</td>\n",
       "      <td>Optimization</td>\n",
       "      <td>208197.0</td>\n",
       "    </tr>\n",
       "    <tr>\n",
       "      <th>8760</th>\n",
       "      <td>2072</td>\n",
       "      <td>507120</td>\n",
       "      <td>Ambient Mesh</td>\n",
       "      <td>Optimization</td>\n",
       "      <td>111466.0</td>\n",
       "    </tr>\n",
       "    <tr>\n",
       "      <th>8761</th>\n",
       "      <td>2073</td>\n",
       "      <td>239557</td>\n",
       "      <td>Ambient Mesh</td>\n",
       "      <td>Optimization</td>\n",
       "      <td>267563.0</td>\n",
       "    </tr>\n",
       "    <tr>\n",
       "      <th>8762</th>\n",
       "      <td>2074</td>\n",
       "      <td>287887</td>\n",
       "      <td>Ambient Mesh</td>\n",
       "      <td>Optimization</td>\n",
       "      <td>48330.0</td>\n",
       "    </tr>\n",
       "  </tbody>\n",
       "</table>\n",
       "<p>8763 rows × 5 columns</p>\n",
       "</div>"
      ],
      "text/plain": [
       "      Sequence  Latency             Mode      Scenario  Latency_diff\n",
       "0            0   677806  No Service Mesh      Baseline           0.0\n",
       "1            1   420651  No Service Mesh      Baseline      257155.0\n",
       "2            2   451801  No Service Mesh      Baseline       31150.0\n",
       "3            3   447191  No Service Mesh      Baseline        4610.0\n",
       "4            4   434968  No Service Mesh      Baseline       12223.0\n",
       "...        ...      ...              ...           ...           ...\n",
       "8758      2070   410389     Ambient Mesh  Optimization      304649.0\n",
       "8759      2071   618586     Ambient Mesh  Optimization      208197.0\n",
       "8760      2072   507120     Ambient Mesh  Optimization      111466.0\n",
       "8761      2073   239557     Ambient Mesh  Optimization      267563.0\n",
       "8762      2074   287887     Ambient Mesh  Optimization       48330.0\n",
       "\n",
       "[8763 rows x 5 columns]"
      ]
     },
     "execution_count": 7,
     "metadata": {},
     "output_type": "execute_result"
    }
   ],
   "source": [
    "df"
   ]
  },
  {
   "cell_type": "code",
   "execution_count": 8,
   "id": "f44b98f7-6c4b-43dc-8dcc-e03f43300ee3",
   "metadata": {
    "colab": {
     "base_uri": "https://localhost:8080/",
     "height": 955
    },
    "executionInfo": {
     "elapsed": 20837,
     "status": "ok",
     "timestamp": 1680268310573,
     "user": {
      "displayName": "arthur simas",
      "userId": "04073960446793716118"
     },
     "user_tz": 180
    },
    "id": "2a30778c-713b-45da-b829-e3ed41eb770b",
    "outputId": "fdd46a50-134f-4ccc-c903-c39da16e1f14",
    "tags": []
   },
   "outputs": [
    {
     "data": {
      "text/html": [
       "<div>\n",
       "<style scoped>\n",
       "    .dataframe tbody tr th:only-of-type {\n",
       "        vertical-align: middle;\n",
       "    }\n",
       "\n",
       "    .dataframe tbody tr th {\n",
       "        vertical-align: top;\n",
       "    }\n",
       "\n",
       "    .dataframe thead tr th {\n",
       "        text-align: left;\n",
       "    }\n",
       "\n",
       "    .dataframe thead tr:last-of-type th {\n",
       "        text-align: right;\n",
       "    }\n",
       "</style>\n",
       "<table border=\"1\" class=\"dataframe\">\n",
       "  <thead>\n",
       "    <tr>\n",
       "      <th></th>\n",
       "      <th></th>\n",
       "      <th colspan=\"8\" halign=\"left\">Latency</th>\n",
       "      <th colspan=\"8\" halign=\"left\">Latency_diff</th>\n",
       "    </tr>\n",
       "    <tr>\n",
       "      <th></th>\n",
       "      <th></th>\n",
       "      <th>count</th>\n",
       "      <th>mean</th>\n",
       "      <th>std</th>\n",
       "      <th>min</th>\n",
       "      <th>25%</th>\n",
       "      <th>50%</th>\n",
       "      <th>75%</th>\n",
       "      <th>max</th>\n",
       "      <th>count</th>\n",
       "      <th>mean</th>\n",
       "      <th>std</th>\n",
       "      <th>min</th>\n",
       "      <th>25%</th>\n",
       "      <th>50%</th>\n",
       "      <th>75%</th>\n",
       "      <th>max</th>\n",
       "    </tr>\n",
       "    <tr>\n",
       "      <th>Mode</th>\n",
       "      <th>Scenario</th>\n",
       "      <th></th>\n",
       "      <th></th>\n",
       "      <th></th>\n",
       "      <th></th>\n",
       "      <th></th>\n",
       "      <th></th>\n",
       "      <th></th>\n",
       "      <th></th>\n",
       "      <th></th>\n",
       "      <th></th>\n",
       "      <th></th>\n",
       "      <th></th>\n",
       "      <th></th>\n",
       "      <th></th>\n",
       "      <th></th>\n",
       "      <th></th>\n",
       "    </tr>\n",
       "  </thead>\n",
       "  <tbody>\n",
       "    <tr>\n",
       "      <th rowspan=\"2\" valign=\"top\">Ambient Mesh</th>\n",
       "      <th>Baseline</th>\n",
       "      <td>2129.0</td>\n",
       "      <td>505595.982151</td>\n",
       "      <td>96317.241088</td>\n",
       "      <td>213087.0</td>\n",
       "      <td>443634.0</td>\n",
       "      <td>487284.0</td>\n",
       "      <td>540504.0</td>\n",
       "      <td>1191078.0</td>\n",
       "      <td>2129.0</td>\n",
       "      <td>96662.794270</td>\n",
       "      <td>85360.451565</td>\n",
       "      <td>0.0</td>\n",
       "      <td>31847.0</td>\n",
       "      <td>72914.0</td>\n",
       "      <td>143035.0</td>\n",
       "      <td>648409.0</td>\n",
       "    </tr>\n",
       "    <tr>\n",
       "      <th>Optimization</th>\n",
       "      <td>2075.0</td>\n",
       "      <td>398893.452530</td>\n",
       "      <td>86057.751079</td>\n",
       "      <td>185011.0</td>\n",
       "      <td>351582.0</td>\n",
       "      <td>382382.0</td>\n",
       "      <td>425230.5</td>\n",
       "      <td>1001248.0</td>\n",
       "      <td>2075.0</td>\n",
       "      <td>81299.676627</td>\n",
       "      <td>83228.923808</td>\n",
       "      <td>0.0</td>\n",
       "      <td>24095.0</td>\n",
       "      <td>54546.0</td>\n",
       "      <td>114784.5</td>\n",
       "      <td>679767.0</td>\n",
       "    </tr>\n",
       "    <tr>\n",
       "      <th rowspan=\"2\" valign=\"top\">No Service Mesh</th>\n",
       "      <th>Baseline</th>\n",
       "      <td>2413.0</td>\n",
       "      <td>501216.593452</td>\n",
       "      <td>91021.625207</td>\n",
       "      <td>218671.0</td>\n",
       "      <td>444961.0</td>\n",
       "      <td>483164.0</td>\n",
       "      <td>533101.0</td>\n",
       "      <td>955782.0</td>\n",
       "      <td>2413.0</td>\n",
       "      <td>90407.109822</td>\n",
       "      <td>83097.661957</td>\n",
       "      <td>0.0</td>\n",
       "      <td>27449.0</td>\n",
       "      <td>63905.0</td>\n",
       "      <td>129416.0</td>\n",
       "      <td>470384.0</td>\n",
       "    </tr>\n",
       "    <tr>\n",
       "      <th>Optimization</th>\n",
       "      <td>2146.0</td>\n",
       "      <td>420765.936626</td>\n",
       "      <td>83453.568444</td>\n",
       "      <td>171180.0</td>\n",
       "      <td>368624.0</td>\n",
       "      <td>399210.5</td>\n",
       "      <td>454388.75</td>\n",
       "      <td>886560.0</td>\n",
       "      <td>2146.0</td>\n",
       "      <td>82942.402144</td>\n",
       "      <td>74166.977127</td>\n",
       "      <td>0.0</td>\n",
       "      <td>24322.25</td>\n",
       "      <td>60727.0</td>\n",
       "      <td>126902.25</td>\n",
       "      <td>525977.0</td>\n",
       "    </tr>\n",
       "  </tbody>\n",
       "</table>\n",
       "</div>"
      ],
      "text/plain": [
       "                             Latency                                       \n",
       "                               count          mean          std      min   \n",
       "Mode            Scenario                                                   \n",
       "Ambient Mesh    Baseline      2129.0 505595.982151 96317.241088 213087.0  \\\n",
       "                Optimization  2075.0 398893.452530 86057.751079 185011.0   \n",
       "No Service Mesh Baseline      2413.0 501216.593452 91021.625207 218671.0   \n",
       "                Optimization  2146.0 420765.936626 83453.568444 171180.0   \n",
       "\n",
       "                                                                     \n",
       "                                  25%      50%       75%       max   \n",
       "Mode            Scenario                                             \n",
       "Ambient Mesh    Baseline     443634.0 487284.0  540504.0 1191078.0  \\\n",
       "                Optimization 351582.0 382382.0  425230.5 1001248.0   \n",
       "No Service Mesh Baseline     444961.0 483164.0  533101.0  955782.0   \n",
       "                Optimization 368624.0 399210.5 454388.75  886560.0   \n",
       "\n",
       "                             Latency_diff                                 \n",
       "                                    count         mean          std min   \n",
       "Mode            Scenario                                                  \n",
       "Ambient Mesh    Baseline           2129.0 96662.794270 85360.451565 0.0  \\\n",
       "                Optimization       2075.0 81299.676627 83228.923808 0.0   \n",
       "No Service Mesh Baseline           2413.0 90407.109822 83097.661957 0.0   \n",
       "                Optimization       2146.0 82942.402144 74166.977127 0.0   \n",
       "\n",
       "                                                                  \n",
       "                                  25%     50%       75%      max  \n",
       "Mode            Scenario                                          \n",
       "Ambient Mesh    Baseline      31847.0 72914.0  143035.0 648409.0  \n",
       "                Optimization  24095.0 54546.0  114784.5 679767.0  \n",
       "No Service Mesh Baseline      27449.0 63905.0  129416.0 470384.0  \n",
       "                Optimization 24322.25 60727.0 126902.25 525977.0  "
      ]
     },
     "execution_count": 8,
     "metadata": {},
     "output_type": "execute_result"
    }
   ],
   "source": [
    "df.groupby(['Mode', 'Scenario'])[['Latency', 'Latency_diff']].describe()"
   ]
  },
  {
   "cell_type": "code",
   "execution_count": 9,
   "id": "b4a86b78-bb3a-4033-9626-7f7d8e075419",
   "metadata": {
    "colab": {
     "base_uri": "https://localhost:8080/",
     "height": 955
    },
    "executionInfo": {
     "elapsed": 20837,
     "status": "ok",
     "timestamp": 1680268310573,
     "user": {
      "displayName": "arthur simas",
      "userId": "04073960446793716118"
     },
     "user_tz": 180
    },
    "id": "2a30778c-713b-45da-b829-e3ed41eb770b",
    "outputId": "fdd46a50-134f-4ccc-c903-c39da16e1f14",
    "tags": []
   },
   "outputs": [
    {
     "data": {
      "text/plain": [
       "745289.7999999998"
      ]
     },
     "execution_count": 9,
     "metadata": {},
     "output_type": "execute_result"
    }
   ],
   "source": [
    "df.Latency.quantile(.99)"
   ]
  },
  {
   "cell_type": "code",
   "execution_count": 10,
   "id": "e5cde6d4-5886-4308-8e5e-643272964fcb",
   "metadata": {
    "colab": {
     "base_uri": "https://localhost:8080/",
     "height": 955
    },
    "executionInfo": {
     "elapsed": 20837,
     "status": "ok",
     "timestamp": 1680268310573,
     "user": {
      "displayName": "arthur simas",
      "userId": "04073960446793716118"
     },
     "user_tz": 180
    },
    "id": "2a30778c-713b-45da-b829-e3ed41eb770b",
    "outputId": "fdd46a50-134f-4ccc-c903-c39da16e1f14",
    "tags": []
   },
   "outputs": [
    {
     "data": {
      "text/plain": [
       "1191078"
      ]
     },
     "execution_count": 10,
     "metadata": {},
     "output_type": "execute_result"
    }
   ],
   "source": [
    "df.Latency.max()"
   ]
  },
  {
   "cell_type": "code",
   "execution_count": 11,
   "id": "62c083bc-9596-40cc-8e9b-4cb390114aa4",
   "metadata": {
    "colab": {
     "base_uri": "https://localhost:8080/",
     "height": 955
    },
    "executionInfo": {
     "elapsed": 20837,
     "status": "ok",
     "timestamp": 1680268310573,
     "user": {
      "displayName": "arthur simas",
      "userId": "04073960446793716118"
     },
     "user_tz": 180
    },
    "id": "2a30778c-713b-45da-b829-e3ed41eb770b",
    "outputId": "fdd46a50-134f-4ccc-c903-c39da16e1f14",
    "tags": []
   },
   "outputs": [],
   "source": [
    "latency_p99 = df[df.Latency <= df.Latency.quantile(.99)]"
   ]
  },
  {
   "cell_type": "code",
   "execution_count": 12,
   "id": "78ab74ee-1f36-402c-bd2d-b2eef45e4908",
   "metadata": {
    "colab": {
     "base_uri": "https://localhost:8080/",
     "height": 955
    },
    "executionInfo": {
     "elapsed": 20837,
     "status": "ok",
     "timestamp": 1680268310573,
     "user": {
      "displayName": "arthur simas",
      "userId": "04073960446793716118"
     },
     "user_tz": 180
    },
    "id": "2a30778c-713b-45da-b829-e3ed41eb770b",
    "outputId": "fdd46a50-134f-4ccc-c903-c39da16e1f14",
    "tags": []
   },
   "outputs": [
    {
     "data": {
      "text/html": [
       "<div>\n",
       "<style scoped>\n",
       "    .dataframe tbody tr th:only-of-type {\n",
       "        vertical-align: middle;\n",
       "    }\n",
       "\n",
       "    .dataframe tbody tr th {\n",
       "        vertical-align: top;\n",
       "    }\n",
       "\n",
       "    .dataframe thead th {\n",
       "        text-align: right;\n",
       "    }\n",
       "</style>\n",
       "<table border=\"1\" class=\"dataframe\">\n",
       "  <thead>\n",
       "    <tr style=\"text-align: right;\">\n",
       "      <th></th>\n",
       "      <th></th>\n",
       "      <th>p25</th>\n",
       "      <th>p50</th>\n",
       "      <th>p75</th>\n",
       "    </tr>\n",
       "    <tr>\n",
       "      <th>Mode</th>\n",
       "      <th>Scenario</th>\n",
       "      <th></th>\n",
       "      <th></th>\n",
       "      <th></th>\n",
       "    </tr>\n",
       "  </thead>\n",
       "  <tbody>\n",
       "    <tr>\n",
       "      <th rowspan=\"2\" valign=\"top\">Ambient Mesh</th>\n",
       "      <th>Baseline</th>\n",
       "      <td>442691.0</td>\n",
       "      <td>485818.0</td>\n",
       "      <td>537116.5</td>\n",
       "    </tr>\n",
       "    <tr>\n",
       "      <th>Optimization</th>\n",
       "      <td>351513.0</td>\n",
       "      <td>382103.0</td>\n",
       "      <td>423659.0</td>\n",
       "    </tr>\n",
       "    <tr>\n",
       "      <th rowspan=\"2\" valign=\"top\">No Service Mesh</th>\n",
       "      <th>Baseline</th>\n",
       "      <td>443983.0</td>\n",
       "      <td>481832.0</td>\n",
       "      <td>529713.5</td>\n",
       "    </tr>\n",
       "    <tr>\n",
       "      <th>Optimization</th>\n",
       "      <td>368605.5</td>\n",
       "      <td>399145.0</td>\n",
       "      <td>452569.75</td>\n",
       "    </tr>\n",
       "  </tbody>\n",
       "</table>\n",
       "</div>"
      ],
      "text/plain": [
       "                                  p25      p50       p75\n",
       "Mode            Scenario                                \n",
       "Ambient Mesh    Baseline     442691.0 485818.0  537116.5\n",
       "                Optimization 351513.0 382103.0  423659.0\n",
       "No Service Mesh Baseline     443983.0 481832.0  529713.5\n",
       "                Optimization 368605.5 399145.0 452569.75"
      ]
     },
     "execution_count": 12,
     "metadata": {},
     "output_type": "execute_result"
    }
   ],
   "source": [
    "latency_p99.groupby(['Mode', 'Scenario']).Latency.agg(\n",
    "    p25=lambda column: column.quantile(.25),\n",
    "    p50=lambda column: column.quantile(.50),\n",
    "    p75=lambda column: column.quantile(.75),\n",
    ")"
   ]
  },
  {
   "cell_type": "code",
   "execution_count": 13,
   "id": "392a684f-0c99-4295-b3c7-e16e3a66e5b2",
   "metadata": {
    "tags": []
   },
   "outputs": [
    {
     "data": {
      "text/plain": [
       "Mode             Scenario    \n",
       "Ambient Mesh     Baseline       88440.404120\n",
       "                 Optimization   79792.937463\n",
       "No Service Mesh  Baseline       83247.877712\n",
       "                 Optimization   80861.114336\n",
       "Name: Latency, dtype: float64"
      ]
     },
     "execution_count": 13,
     "metadata": {},
     "output_type": "execute_result"
    }
   ],
   "source": [
    "jitter = latency_p99.groupby(['Mode', 'Scenario']).Latency.std(ddof=0)\n",
    "jitter"
   ]
  },
  {
   "cell_type": "code",
   "execution_count": 14,
   "id": "3feeff17-303f-4e98-afd7-fef8a6f8e419",
   "metadata": {
    "colab": {
     "base_uri": "https://localhost:8080/",
     "height": 955
    },
    "executionInfo": {
     "elapsed": 20837,
     "status": "ok",
     "timestamp": 1680268310573,
     "user": {
      "displayName": "arthur simas",
      "userId": "04073960446793716118"
     },
     "user_tz": 180
    },
    "id": "2a30778c-713b-45da-b829-e3ed41eb770b",
    "outputId": "fdd46a50-134f-4ccc-c903-c39da16e1f14",
    "tags": []
   },
   "outputs": [],
   "source": [
    "latency_diff_p99 = df[df.Latency_diff <= df.Latency_diff.quantile(.99)]"
   ]
  },
  {
   "cell_type": "code",
   "execution_count": 15,
   "id": "2049d557-3528-4ab1-8b02-90a1873e824d",
   "metadata": {
    "colab": {
     "base_uri": "https://localhost:8080/",
     "height": 955
    },
    "executionInfo": {
     "elapsed": 20837,
     "status": "ok",
     "timestamp": 1680268310573,
     "user": {
      "displayName": "arthur simas",
      "userId": "04073960446793716118"
     },
     "user_tz": 180
    },
    "id": "2a30778c-713b-45da-b829-e3ed41eb770b",
    "outputId": "fdd46a50-134f-4ccc-c903-c39da16e1f14",
    "tags": []
   },
   "outputs": [
    {
     "name": "stdout",
     "output_type": "stream",
     "text": [
      "removed entries > p99 latency:\n"
     ]
    },
    {
     "data": {
      "text/html": [
       "<div>\n",
       "<style scoped>\n",
       "    .dataframe tbody tr th:only-of-type {\n",
       "        vertical-align: middle;\n",
       "    }\n",
       "\n",
       "    .dataframe tbody tr th {\n",
       "        vertical-align: top;\n",
       "    }\n",
       "\n",
       "    .dataframe thead th {\n",
       "        text-align: right;\n",
       "    }\n",
       "</style>\n",
       "<table border=\"1\" class=\"dataframe\">\n",
       "  <thead>\n",
       "    <tr style=\"text-align: right;\">\n",
       "      <th></th>\n",
       "      <th></th>\n",
       "      <th>Latency</th>\n",
       "    </tr>\n",
       "    <tr>\n",
       "      <th>Mode</th>\n",
       "      <th>Scenario</th>\n",
       "      <th></th>\n",
       "    </tr>\n",
       "  </thead>\n",
       "  <tbody>\n",
       "    <tr>\n",
       "      <th rowspan=\"2\" valign=\"top\">Ambient Mesh</th>\n",
       "      <th>Baseline</th>\n",
       "      <td>30</td>\n",
       "    </tr>\n",
       "    <tr>\n",
       "      <th>Optimization</th>\n",
       "      <td>10</td>\n",
       "    </tr>\n",
       "    <tr>\n",
       "      <th rowspan=\"2\" valign=\"top\">No Service Mesh</th>\n",
       "      <th>Baseline</th>\n",
       "      <td>42</td>\n",
       "    </tr>\n",
       "    <tr>\n",
       "      <th>Optimization</th>\n",
       "      <td>6</td>\n",
       "    </tr>\n",
       "  </tbody>\n",
       "</table>\n",
       "</div>"
      ],
      "text/plain": [
       "                              Latency\n",
       "Mode            Scenario             \n",
       "Ambient Mesh    Baseline           30\n",
       "                Optimization       10\n",
       "No Service Mesh Baseline           42\n",
       "                Optimization        6"
      ]
     },
     "metadata": {},
     "output_type": "display_data"
    },
    {
     "name": "stdout",
     "output_type": "stream",
     "text": [
      "total\n"
     ]
    },
    {
     "data": {
      "text/html": [
       "<div>\n",
       "<style scoped>\n",
       "    .dataframe tbody tr th:only-of-type {\n",
       "        vertical-align: middle;\n",
       "    }\n",
       "\n",
       "    .dataframe tbody tr th {\n",
       "        vertical-align: top;\n",
       "    }\n",
       "\n",
       "    .dataframe thead th {\n",
       "        text-align: right;\n",
       "    }\n",
       "</style>\n",
       "<table border=\"1\" class=\"dataframe\">\n",
       "  <thead>\n",
       "    <tr style=\"text-align: right;\">\n",
       "      <th></th>\n",
       "      <th></th>\n",
       "      <th>Latency</th>\n",
       "    </tr>\n",
       "    <tr>\n",
       "      <th>Mode</th>\n",
       "      <th>Scenario</th>\n",
       "      <th></th>\n",
       "    </tr>\n",
       "  </thead>\n",
       "  <tbody>\n",
       "    <tr>\n",
       "      <th rowspan=\"2\" valign=\"top\">Ambient Mesh</th>\n",
       "      <th>Baseline</th>\n",
       "      <td>2129</td>\n",
       "    </tr>\n",
       "    <tr>\n",
       "      <th>Optimization</th>\n",
       "      <td>2075</td>\n",
       "    </tr>\n",
       "    <tr>\n",
       "      <th rowspan=\"2\" valign=\"top\">No Service Mesh</th>\n",
       "      <th>Baseline</th>\n",
       "      <td>2413</td>\n",
       "    </tr>\n",
       "    <tr>\n",
       "      <th>Optimization</th>\n",
       "      <td>2146</td>\n",
       "    </tr>\n",
       "  </tbody>\n",
       "</table>\n",
       "</div>"
      ],
      "text/plain": [
       "                              Latency\n",
       "Mode            Scenario             \n",
       "Ambient Mesh    Baseline         2129\n",
       "                Optimization     2075\n",
       "No Service Mesh Baseline         2413\n",
       "                Optimization     2146"
      ]
     },
     "metadata": {},
     "output_type": "display_data"
    }
   ],
   "source": [
    "print('removed entries > p99 latency:')\n",
    "display(df.groupby(['Mode', 'Scenario'])[['Latency']].count() - latency_p99.groupby(['Mode', 'Scenario'])[['Latency']].count())\n",
    "\n",
    "print('total')\n",
    "display(df.groupby(['Mode', 'Scenario'])[['Latency']].count())"
   ]
  },
  {
   "cell_type": "code",
   "execution_count": 16,
   "id": "8a3ede20-5dd2-431c-8788-7b27ae2f19bd",
   "metadata": {
    "colab": {
     "base_uri": "https://localhost:8080/",
     "height": 955
    },
    "executionInfo": {
     "elapsed": 20837,
     "status": "ok",
     "timestamp": 1680268310573,
     "user": {
      "displayName": "arthur simas",
      "userId": "04073960446793716118"
     },
     "user_tz": 180
    },
    "id": "2a30778c-713b-45da-b829-e3ed41eb770b",
    "outputId": "fdd46a50-134f-4ccc-c903-c39da16e1f14",
    "tags": []
   },
   "outputs": [
    {
     "data": {
      "text/html": [
       "<div>\n",
       "<style scoped>\n",
       "    .dataframe tbody tr th:only-of-type {\n",
       "        vertical-align: middle;\n",
       "    }\n",
       "\n",
       "    .dataframe tbody tr th {\n",
       "        vertical-align: top;\n",
       "    }\n",
       "\n",
       "    .dataframe thead th {\n",
       "        text-align: right;\n",
       "    }\n",
       "</style>\n",
       "<table border=\"1\" class=\"dataframe\">\n",
       "  <thead>\n",
       "    <tr style=\"text-align: right;\">\n",
       "      <th></th>\n",
       "      <th>Sequence</th>\n",
       "      <th>Latency</th>\n",
       "      <th>Mode</th>\n",
       "      <th>Scenario</th>\n",
       "      <th>Latency_diff</th>\n",
       "    </tr>\n",
       "  </thead>\n",
       "  <tbody>\n",
       "    <tr>\n",
       "      <th>64</th>\n",
       "      <td>64</td>\n",
       "      <td>760287</td>\n",
       "      <td>No Service Mesh</td>\n",
       "      <td>Baseline</td>\n",
       "      <td>123409.0</td>\n",
       "    </tr>\n",
       "    <tr>\n",
       "      <th>67</th>\n",
       "      <td>67</td>\n",
       "      <td>774116</td>\n",
       "      <td>No Service Mesh</td>\n",
       "      <td>Baseline</td>\n",
       "      <td>313725.0</td>\n",
       "    </tr>\n",
       "    <tr>\n",
       "      <th>73</th>\n",
       "      <td>73</td>\n",
       "      <td>749183</td>\n",
       "      <td>No Service Mesh</td>\n",
       "      <td>Baseline</td>\n",
       "      <td>191294.0</td>\n",
       "    </tr>\n",
       "    <tr>\n",
       "      <th>94</th>\n",
       "      <td>94</td>\n",
       "      <td>848985</td>\n",
       "      <td>No Service Mesh</td>\n",
       "      <td>Baseline</td>\n",
       "      <td>321268.0</td>\n",
       "    </tr>\n",
       "    <tr>\n",
       "      <th>106</th>\n",
       "      <td>106</td>\n",
       "      <td>752395</td>\n",
       "      <td>No Service Mesh</td>\n",
       "      <td>Baseline</td>\n",
       "      <td>274614.0</td>\n",
       "    </tr>\n",
       "    <tr>\n",
       "      <th>...</th>\n",
       "      <td>...</td>\n",
       "      <td>...</td>\n",
       "      <td>...</td>\n",
       "      <td>...</td>\n",
       "      <td>...</td>\n",
       "    </tr>\n",
       "    <tr>\n",
       "      <th>7868</th>\n",
       "      <td>1180</td>\n",
       "      <td>887965</td>\n",
       "      <td>Ambient Mesh</td>\n",
       "      <td>Optimization</td>\n",
       "      <td>336985.0</td>\n",
       "    </tr>\n",
       "    <tr>\n",
       "      <th>8185</th>\n",
       "      <td>1497</td>\n",
       "      <td>991610</td>\n",
       "      <td>Ambient Mesh</td>\n",
       "      <td>Optimization</td>\n",
       "      <td>593094.0</td>\n",
       "    </tr>\n",
       "    <tr>\n",
       "      <th>8222</th>\n",
       "      <td>1534</td>\n",
       "      <td>871483</td>\n",
       "      <td>Ambient Mesh</td>\n",
       "      <td>Optimization</td>\n",
       "      <td>509145.0</td>\n",
       "    </tr>\n",
       "    <tr>\n",
       "      <th>8288</th>\n",
       "      <td>1600</td>\n",
       "      <td>788791</td>\n",
       "      <td>Ambient Mesh</td>\n",
       "      <td>Optimization</td>\n",
       "      <td>243538.0</td>\n",
       "    </tr>\n",
       "    <tr>\n",
       "      <th>8741</th>\n",
       "      <td>2053</td>\n",
       "      <td>752123</td>\n",
       "      <td>Ambient Mesh</td>\n",
       "      <td>Optimization</td>\n",
       "      <td>251778.0</td>\n",
       "    </tr>\n",
       "  </tbody>\n",
       "</table>\n",
       "<p>88 rows × 5 columns</p>\n",
       "</div>"
      ],
      "text/plain": [
       "      Sequence  Latency             Mode      Scenario  Latency_diff\n",
       "64          64   760287  No Service Mesh      Baseline      123409.0\n",
       "67          67   774116  No Service Mesh      Baseline      313725.0\n",
       "73          73   749183  No Service Mesh      Baseline      191294.0\n",
       "94          94   848985  No Service Mesh      Baseline      321268.0\n",
       "106        106   752395  No Service Mesh      Baseline      274614.0\n",
       "...        ...      ...              ...           ...           ...\n",
       "7868      1180   887965     Ambient Mesh  Optimization      336985.0\n",
       "8185      1497   991610     Ambient Mesh  Optimization      593094.0\n",
       "8222      1534   871483     Ambient Mesh  Optimization      509145.0\n",
       "8288      1600   788791     Ambient Mesh  Optimization      243538.0\n",
       "8741      2053   752123     Ambient Mesh  Optimization      251778.0\n",
       "\n",
       "[88 rows x 5 columns]"
      ]
     },
     "execution_count": 16,
     "metadata": {},
     "output_type": "execute_result"
    }
   ],
   "source": [
    "df[df.Latency > df.Latency.quantile(.99)]"
   ]
  },
  {
   "cell_type": "code",
   "execution_count": 17,
   "id": "aa863f12-2ff7-45a5-b874-5d03bf1ee28f",
   "metadata": {
    "colab": {
     "base_uri": "https://localhost:8080/",
     "height": 955
    },
    "executionInfo": {
     "elapsed": 20837,
     "status": "ok",
     "timestamp": 1680268310573,
     "user": {
      "displayName": "arthur simas",
      "userId": "04073960446793716118"
     },
     "user_tz": 180
    },
    "id": "2a30778c-713b-45da-b829-e3ed41eb770b",
    "outputId": "fdd46a50-134f-4ccc-c903-c39da16e1f14",
    "tags": []
   },
   "outputs": [
    {
     "name": "stdout",
     "output_type": "stream",
     "text": [
      "removed entries > p99 latency diff:\n"
     ]
    },
    {
     "data": {
      "text/html": [
       "<div>\n",
       "<style scoped>\n",
       "    .dataframe tbody tr th:only-of-type {\n",
       "        vertical-align: middle;\n",
       "    }\n",
       "\n",
       "    .dataframe tbody tr th {\n",
       "        vertical-align: top;\n",
       "    }\n",
       "\n",
       "    .dataframe thead th {\n",
       "        text-align: right;\n",
       "    }\n",
       "</style>\n",
       "<table border=\"1\" class=\"dataframe\">\n",
       "  <thead>\n",
       "    <tr style=\"text-align: right;\">\n",
       "      <th></th>\n",
       "      <th></th>\n",
       "      <th>Latency</th>\n",
       "    </tr>\n",
       "    <tr>\n",
       "      <th>Mode</th>\n",
       "      <th>Scenario</th>\n",
       "      <th></th>\n",
       "    </tr>\n",
       "  </thead>\n",
       "  <tbody>\n",
       "    <tr>\n",
       "      <th rowspan=\"2\" valign=\"top\">Ambient Mesh</th>\n",
       "      <th>Baseline</th>\n",
       "      <td>21</td>\n",
       "    </tr>\n",
       "    <tr>\n",
       "      <th>Optimization</th>\n",
       "      <td>32</td>\n",
       "    </tr>\n",
       "    <tr>\n",
       "      <th rowspan=\"2\" valign=\"top\">No Service Mesh</th>\n",
       "      <th>Baseline</th>\n",
       "      <td>21</td>\n",
       "    </tr>\n",
       "    <tr>\n",
       "      <th>Optimization</th>\n",
       "      <td>14</td>\n",
       "    </tr>\n",
       "  </tbody>\n",
       "</table>\n",
       "</div>"
      ],
      "text/plain": [
       "                              Latency\n",
       "Mode            Scenario             \n",
       "Ambient Mesh    Baseline           21\n",
       "                Optimization       32\n",
       "No Service Mesh Baseline           21\n",
       "                Optimization       14"
      ]
     },
     "metadata": {},
     "output_type": "display_data"
    },
    {
     "name": "stdout",
     "output_type": "stream",
     "text": [
      "total\n"
     ]
    },
    {
     "data": {
      "text/html": [
       "<div>\n",
       "<style scoped>\n",
       "    .dataframe tbody tr th:only-of-type {\n",
       "        vertical-align: middle;\n",
       "    }\n",
       "\n",
       "    .dataframe tbody tr th {\n",
       "        vertical-align: top;\n",
       "    }\n",
       "\n",
       "    .dataframe thead th {\n",
       "        text-align: right;\n",
       "    }\n",
       "</style>\n",
       "<table border=\"1\" class=\"dataframe\">\n",
       "  <thead>\n",
       "    <tr style=\"text-align: right;\">\n",
       "      <th></th>\n",
       "      <th></th>\n",
       "      <th>Latency</th>\n",
       "    </tr>\n",
       "    <tr>\n",
       "      <th>Mode</th>\n",
       "      <th>Scenario</th>\n",
       "      <th></th>\n",
       "    </tr>\n",
       "  </thead>\n",
       "  <tbody>\n",
       "    <tr>\n",
       "      <th rowspan=\"2\" valign=\"top\">Ambient Mesh</th>\n",
       "      <th>Baseline</th>\n",
       "      <td>2129</td>\n",
       "    </tr>\n",
       "    <tr>\n",
       "      <th>Optimization</th>\n",
       "      <td>2075</td>\n",
       "    </tr>\n",
       "    <tr>\n",
       "      <th rowspan=\"2\" valign=\"top\">No Service Mesh</th>\n",
       "      <th>Baseline</th>\n",
       "      <td>2413</td>\n",
       "    </tr>\n",
       "    <tr>\n",
       "      <th>Optimization</th>\n",
       "      <td>2146</td>\n",
       "    </tr>\n",
       "  </tbody>\n",
       "</table>\n",
       "</div>"
      ],
      "text/plain": [
       "                              Latency\n",
       "Mode            Scenario             \n",
       "Ambient Mesh    Baseline         2129\n",
       "                Optimization     2075\n",
       "No Service Mesh Baseline         2413\n",
       "                Optimization     2146"
      ]
     },
     "metadata": {},
     "output_type": "display_data"
    }
   ],
   "source": [
    "print('removed entries > p99 latency diff:')\n",
    "display(df.groupby(['Mode', 'Scenario'])[['Latency']].count() - latency_diff_p99.groupby(['Mode', 'Scenario'])[['Latency']].count())\n",
    "\n",
    "print('total')\n",
    "display(df.groupby(['Mode', 'Scenario'])[['Latency']].count())"
   ]
  },
  {
   "cell_type": "code",
   "execution_count": 18,
   "id": "85002a2f-2187-43f5-a64c-c1a77fa4ae9f",
   "metadata": {
    "colab": {
     "base_uri": "https://localhost:8080/",
     "height": 955
    },
    "executionInfo": {
     "elapsed": 20837,
     "status": "ok",
     "timestamp": 1680268310573,
     "user": {
      "displayName": "arthur simas",
      "userId": "04073960446793716118"
     },
     "user_tz": 180
    },
    "id": "2a30778c-713b-45da-b829-e3ed41eb770b",
    "outputId": "fdd46a50-134f-4ccc-c903-c39da16e1f14",
    "tags": []
   },
   "outputs": [
    {
     "data": {
      "text/html": [
       "<div>\n",
       "<style scoped>\n",
       "    .dataframe tbody tr th:only-of-type {\n",
       "        vertical-align: middle;\n",
       "    }\n",
       "\n",
       "    .dataframe tbody tr th {\n",
       "        vertical-align: top;\n",
       "    }\n",
       "\n",
       "    .dataframe thead th {\n",
       "        text-align: right;\n",
       "    }\n",
       "</style>\n",
       "<table border=\"1\" class=\"dataframe\">\n",
       "  <thead>\n",
       "    <tr style=\"text-align: right;\">\n",
       "      <th></th>\n",
       "      <th>Sequence</th>\n",
       "      <th>Latency</th>\n",
       "      <th>Mode</th>\n",
       "      <th>Scenario</th>\n",
       "      <th>Latency_diff</th>\n",
       "    </tr>\n",
       "  </thead>\n",
       "  <tbody>\n",
       "    <tr>\n",
       "      <th>179</th>\n",
       "      <td>179</td>\n",
       "      <td>421559</td>\n",
       "      <td>No Service Mesh</td>\n",
       "      <td>Baseline</td>\n",
       "      <td>382797.0</td>\n",
       "    </tr>\n",
       "    <tr>\n",
       "      <th>229</th>\n",
       "      <td>229</td>\n",
       "      <td>248005</td>\n",
       "      <td>No Service Mesh</td>\n",
       "      <td>Baseline</td>\n",
       "      <td>439089.0</td>\n",
       "    </tr>\n",
       "    <tr>\n",
       "      <th>546</th>\n",
       "      <td>546</td>\n",
       "      <td>863311</td>\n",
       "      <td>No Service Mesh</td>\n",
       "      <td>Baseline</td>\n",
       "      <td>420795.0</td>\n",
       "    </tr>\n",
       "    <tr>\n",
       "      <th>547</th>\n",
       "      <td>547</td>\n",
       "      <td>400611</td>\n",
       "      <td>No Service Mesh</td>\n",
       "      <td>Baseline</td>\n",
       "      <td>462700.0</td>\n",
       "    </tr>\n",
       "    <tr>\n",
       "      <th>607</th>\n",
       "      <td>607</td>\n",
       "      <td>899979</td>\n",
       "      <td>No Service Mesh</td>\n",
       "      <td>Baseline</td>\n",
       "      <td>433437.0</td>\n",
       "    </tr>\n",
       "    <tr>\n",
       "      <th>...</th>\n",
       "      <td>...</td>\n",
       "      <td>...</td>\n",
       "      <td>...</td>\n",
       "      <td>...</td>\n",
       "      <td>...</td>\n",
       "    </tr>\n",
       "    <tr>\n",
       "      <th>8370</th>\n",
       "      <td>1682</td>\n",
       "      <td>743673</td>\n",
       "      <td>Ambient Mesh</td>\n",
       "      <td>Optimization</td>\n",
       "      <td>516339.0</td>\n",
       "    </tr>\n",
       "    <tr>\n",
       "      <th>8371</th>\n",
       "      <td>1683</td>\n",
       "      <td>266585</td>\n",
       "      <td>Ambient Mesh</td>\n",
       "      <td>Optimization</td>\n",
       "      <td>477088.0</td>\n",
       "    </tr>\n",
       "    <tr>\n",
       "      <th>8524</th>\n",
       "      <td>1836</td>\n",
       "      <td>332376</td>\n",
       "      <td>Ambient Mesh</td>\n",
       "      <td>Optimization</td>\n",
       "      <td>368275.0</td>\n",
       "    </tr>\n",
       "    <tr>\n",
       "      <th>8742</th>\n",
       "      <td>2054</td>\n",
       "      <td>240534</td>\n",
       "      <td>Ambient Mesh</td>\n",
       "      <td>Optimization</td>\n",
       "      <td>511589.0</td>\n",
       "    </tr>\n",
       "    <tr>\n",
       "      <th>8757</th>\n",
       "      <td>2069</td>\n",
       "      <td>715038</td>\n",
       "      <td>Ambient Mesh</td>\n",
       "      <td>Optimization</td>\n",
       "      <td>355913.0</td>\n",
       "    </tr>\n",
       "  </tbody>\n",
       "</table>\n",
       "<p>88 rows × 5 columns</p>\n",
       "</div>"
      ],
      "text/plain": [
       "      Sequence  Latency             Mode      Scenario  Latency_diff\n",
       "179        179   421559  No Service Mesh      Baseline      382797.0\n",
       "229        229   248005  No Service Mesh      Baseline      439089.0\n",
       "546        546   863311  No Service Mesh      Baseline      420795.0\n",
       "547        547   400611  No Service Mesh      Baseline      462700.0\n",
       "607        607   899979  No Service Mesh      Baseline      433437.0\n",
       "...        ...      ...              ...           ...           ...\n",
       "8370      1682   743673     Ambient Mesh  Optimization      516339.0\n",
       "8371      1683   266585     Ambient Mesh  Optimization      477088.0\n",
       "8524      1836   332376     Ambient Mesh  Optimization      368275.0\n",
       "8742      2054   240534     Ambient Mesh  Optimization      511589.0\n",
       "8757      2069   715038     Ambient Mesh  Optimization      355913.0\n",
       "\n",
       "[88 rows x 5 columns]"
      ]
     },
     "execution_count": 18,
     "metadata": {},
     "output_type": "execute_result"
    }
   ],
   "source": [
    "df[df.Latency_diff > df.Latency_diff.quantile(.99)]"
   ]
  },
  {
   "cell_type": "code",
   "execution_count": 19,
   "id": "7b0926d5-6c4b-4cf8-b1ac-68cbb0b5bd07",
   "metadata": {
    "colab": {
     "base_uri": "https://localhost:8080/",
     "height": 955
    },
    "executionInfo": {
     "elapsed": 20837,
     "status": "ok",
     "timestamp": 1680268310573,
     "user": {
      "displayName": "arthur simas",
      "userId": "04073960446793716118"
     },
     "user_tz": 180
    },
    "id": "2a30778c-713b-45da-b829-e3ed41eb770b",
    "outputId": "fdd46a50-134f-4ccc-c903-c39da16e1f14",
    "tags": []
   },
   "outputs": [],
   "source": [
    "def format_ns(ns, to):\n",
    "    convert_table = {\n",
    "        'ns': 1,\n",
    "        'us': 1/1_000,\n",
    "        'ms': 1/1_000_000,\n",
    "    }\n",
    "    number = ns * convert_table[to]\n",
    "    return '{:.{}f}'.format(number, min(count_decimal_places(number, remove_single_zero=True), 6))"
   ]
  },
  {
   "cell_type": "code",
   "execution_count": 20,
   "id": "deb5da23-d9b7-4072-a3cd-214ede77364f",
   "metadata": {
    "tags": []
   },
   "outputs": [
    {
     "name": "stderr",
     "output_type": "stream",
     "text": [
      "/tmp/ipykernel_1671487/3261602205.py:3: UserWarning: FixedFormatter should only be used together with FixedLocator\n",
      "  g.set(\n"
     ]
    },
    {
     "data": {
      "image/png": "[encoded data removed]",
      "text/plain": [
       "<Figure size 640x480 with 1 Axes>"
      ]
     },
     "metadata": {},
     "output_type": "display_data"
    }
   ],
   "source": [
    "g = sns.histplot(data=latency_p99, x='Latency', hue='Scenario')\n",
    "\n",
    "g.set(\n",
    "    #title='Latency -- p99',\n",
    "    xlabel='Latency (µs)',\n",
    "    #ylabel='Type',\n",
    "    xticklabels=[format_ns(tick, 'us') for tick in g.get_xticks()],\n",
    ");"
   ]
  },
  {
   "cell_type": "code",
   "execution_count": 21,
   "id": "11c7a497-322c-4859-a3ea-5401ae44fae0",
   "metadata": {
    "colab": {
     "base_uri": "https://localhost:8080/",
     "height": 955
    },
    "executionInfo": {
     "elapsed": 20837,
     "status": "ok",
     "timestamp": 1680268310573,
     "user": {
      "displayName": "arthur simas",
      "userId": "04073960446793716118"
     },
     "user_tz": 180
    },
    "id": "2a30778c-713b-45da-b829-e3ed41eb770b",
    "outputId": "fdd46a50-134f-4ccc-c903-c39da16e1f14",
    "tags": []
   },
   "outputs": [
    {
     "name": "stderr",
     "output_type": "stream",
     "text": [
      "/tmp/ipykernel_1671487/1693546041.py:3: UserWarning: FixedFormatter should only be used together with FixedLocator\n",
      "  g.set(\n"
     ]
    },
    {
     "data": {
      "image/png": "[encoded data removed]",
      "text/plain": [
       "<Figure size 640x480 with 1 Axes>"
      ]
     },
     "metadata": {},
     "output_type": "display_data"
    }
   ],
   "source": [
    "g = sns.violinplot(data=latency_p99, x='Latency', y='Mode', split=True, hue='Scenario', inner='quart', cut=0)\n",
    "\n",
    "g.set(\n",
    "    #title='Latency -- p99',\n",
    "    xlabel='Latency (µs)',\n",
    "    #ylabel='Type',\n",
    "    xticklabels=[format_ns(tick, 'us') for tick in g.get_xticks()],\n",
    ");\n",
    "\n",
    "g.figure.savefig('ping-echo-violinplot-latency.svg', bbox_inches='tight')"
   ]
  },
  {
   "cell_type": "code",
   "execution_count": 25,
   "id": "11687f05-b3de-44e6-9821-786c610ca573",
   "metadata": {},
   "outputs": [
    {
     "name": "stderr",
     "output_type": "stream",
     "text": [
      "/tmp/ipykernel_1671487/693985074.py:3: UserWarning: FixedFormatter should only be used together with FixedLocator\n",
      "  g.set(\n"
     ]
    },
    {
     "data": {
      "image/png": "[encoded data removed]",
      "text/plain": [
       "<Figure size 640x480 with 1 Axes>"
      ]
     },
     "metadata": {},
     "output_type": "display_data"
    }
   ],
   "source": [
    "g = sns.lineplot(data=latency_p99, x='Sequence', y='Mode', hue='Scenario')\n",
    "\n",
    "g.set(\n",
    "    #title='Latency -- p99',\n",
    "    ylabel='Latency (µs)',\n",
    "    #xlabel='Sequence',\n",
    "    yticklabels=[format_ns(tick, 'us') for tick in g.get_yticks()],\n",
    ");\n",
    "\n",
    "g.figure.savefig('ping-echo-lineplot-latency.svg', bbox_inches='tight')"
   ]
  },
  {
   "cell_type": "code",
   "execution_count": 26,
   "id": "0bee3314-cca4-403a-ae0d-74bbe9141803",
   "metadata": {},
   "outputs": [
    {
     "name": "stderr",
     "output_type": "stream",
     "text": [
      "/tmp/ipykernel_1671487/619990491.py:7: UserWarning: FixedFormatter should only be used together with FixedLocator\n",
      "  g.set(\n"
     ]
    },
    {
     "data": {
      "image/png": "[encoded data removed]",
      "text/plain": [
       "<Figure size 640x480 with 1 Axes>"
      ]
     },
     "metadata": {},
     "output_type": "display_data"
    }
   ],
   "source": [
    "latency_outliers = df[df.Latency > df.Latency.quantile(.99)]\n",
    "g = sns.scatterplot(data=latency_outliers, x='Sequence', y='Latency', hue='Scenario', style='Mode')\n",
    "\n",
    "g.axhline(y=df.Latency.quantile(.99), linewidth=1.5, color='gray', ls=':')\n",
    "g.text(-150, df.Latency.quantile(.99), f\"p99 = {format_ns(df.Latency.quantile(.99), 'ms')}\", va='center', ha='right')\n",
    "\n",
    "g.set(\n",
    "    #title='Latency -- >p99',\n",
    "    ylabel='Latency (ms)',\n",
    "    #xlabel='Sequence',\n",
    "    yticklabels=[format_ns(tick, 'ms') for tick in g.get_yticks()],\n",
    ");\n",
    "\n",
    "g.figure.savefig('ping-echo-lineplot-latency-spikes.svg', bbox_inches='tight')"
   ]
  },
  {
   "cell_type": "code",
   "execution_count": 22,
   "id": "3625cf8b-47ea-4c40-b4df-225992e21017",
   "metadata": {
    "tags": []
   },
   "outputs": [
    {
     "name": "stderr",
     "output_type": "stream",
     "text": [
      "/tmp/ipykernel_1671487/1260539480.py:9: UserWarning: FixedFormatter should only be used together with FixedLocator\n",
      "  g.set(\n"
     ]
    },
    {
     "data": {
      "image/png": "[encoded data removed]",
      "text/plain": [
       "<Figure size 640x480 with 1 Axes>"
      ]
     },
     "metadata": {},
     "output_type": "display_data"
    }
   ],
   "source": [
    "g = sns.violinplot(data=latency_diff_p99, x='Latency_diff', y='Mode', split=True, hue='Scenario', inner='quart', cut=0)\n",
    "\n",
    "#g.axvline(x=jitter['No Service Mesh'].Baseline, ymin=.5, linewidth=1.5, color='lightgray', ls=':')\n",
    "#g.axvline(x=jitter['No Service Mesh'].Optimization, ymax=.5, linewidth=1.5, color='lightgray', ls=':')\n",
    "\n",
    "#g.text(jitter['No Service Mesh'].Baseline + 5_000, -0.4, f\"Jitter {format_ns(jitter['No Service Mesh'].Baseline, 'us')} (µs)\", va='center', ha='left')\n",
    "#g.text(jitter['No Service Mesh'].Optimization + 5_000, 0.4, f\"Jitter {format_ns(jitter['No Service Mesh'].Optimization, 'us')} (µs)\", va='center', ha='left')\n",
    "\n",
    "g.set(\n",
    "    #title='Latency -- p99',\n",
    "    xlabel='Latency variation (µs)',\n",
    "    #ylabel='Type',\n",
    "    xticklabels=[format_ns(tick, 'us') for tick in g.get_xticks()],\n",
    ");\n",
    "\n",
    "g.figure.savefig('ping-echo-violinplot-jitter.svg', bbox_inches='tight')"
   ]
  },
  {
   "cell_type": "code",
   "execution_count": 23,
   "id": "e3a99f6a-6931-48c5-b8c2-3b72c290c4f9",
   "metadata": {
    "tags": []
   },
   "outputs": [
    {
     "name": "stderr",
     "output_type": "stream",
     "text": [
      "/tmp/ipykernel_1671487/4181883388.py:3: UserWarning: FixedFormatter should only be used together with FixedLocator\n",
      "  g.set(\n"
     ]
    },
    {
     "data": {
      "image/png": "[encoded data removed]",
      "text/plain": [
       "<Figure size 640x480 with 1 Axes>"
      ]
     },
     "metadata": {},
     "output_type": "display_data"
    }
   ],
   "source": [
    "g = sns.histplot(data=latency_diff_p99, x='Latency_diff', hue='Scenario')\n",
    "\n",
    "g.set(\n",
    "    #title='Latency -- p99',\n",
    "    xlabel='Latency variation (µs)',\n",
    "    #ylabel='Type',\n",
    "    xticklabels=[format_ns(tick, 'us') for tick in g.get_xticks()],\n",
    ");"
   ]
  },
  {
   "cell_type": "code",
   "execution_count": 24,
   "id": "3b6c7ab0-2974-4c22-8d38-c811052e1c80",
   "metadata": {
    "tags": []
   },
   "outputs": [
    {
     "data": {
      "text/plain": [
       "(80861.11433578489, 83247.87771170317)"
      ]
     },
     "execution_count": 24,
     "metadata": {},
     "output_type": "execute_result"
    }
   ],
   "source": [
    "(jitter['No Service Mesh'].Optimization , jitter['No Service Mesh'].Baseline)"
   ]
  },
  {
   "cell_type": "code",
   "execution_count": null,
   "id": "aeb4c81f-9c77-49d5-933d-fe9862ef1247",
   "metadata": {},
   "outputs": [],
   "source": []
  }
 ],
 "metadata": {
  "colab": {
   "provenance": []
  },
  "kernelspec": {
   "display_name": "Python 3 (ipykernel)",
   "language": "python",
   "name": "python3"
  },
  "language_info": {
   "codemirror_mode": {
    "name": "ipython",
    "version": 3
   },
   "file_extension": ".py",
   "mimetype": "text/x-python",
   "name": "python",
   "nbconvert_exporter": "python",
   "pygments_lexer": "ipython3",
   "version": "3.10.14"
  }
 },
 "nbformat": 4,
 "nbformat_minor": 5
}
